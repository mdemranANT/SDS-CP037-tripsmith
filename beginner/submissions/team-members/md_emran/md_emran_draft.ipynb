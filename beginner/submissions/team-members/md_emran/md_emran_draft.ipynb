{
 "cells": [
  {
   "cell_type": "code",
   "execution_count": null,
   "metadata": {},
   "outputs": [],
   "source": [
    "# install \n",
    "# !pip install tavily-python --- only once (need to find out how to create and environment to do it)\n",
    "\n",
    "# import essentials\n",
    "import os\n",
    "import json\n",
    "import time\n",
    "import requests\n",
    "from typing import Dict, List, Optional\n",
    "from pathlib import Path\n",
    "from dotenv import load_dotenv\n",
    "from tavily import TavilyClient\n"
   ]
  },
  {
   "cell_type": "code",
   "execution_count": null,
   "metadata": {},
   "outputs": [],
   "source": []
  }
 ],
 "metadata": {
  "kernelspec": {
   "display_name": "base",
   "language": "python",
   "name": "python3"
  },
  "language_info": {
   "codemirror_mode": {
    "name": "ipython",
    "version": 3
   },
   "file_extension": ".py",
   "mimetype": "text/x-python",
   "name": "python",
   "nbconvert_exporter": "python",
   "pygments_lexer": "ipython3",
   "version": "3.13.5"
  }
 },
 "nbformat": 4,
 "nbformat_minor": 2
}
